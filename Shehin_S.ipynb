{
  "nbformat": 4,
  "nbformat_minor": 0,
  "metadata": {
    "colab": {
      "name": "Shehin S.ipynb",
      "provenance": []
    },
    "kernelspec": {
      "name": "python3",
      "display_name": "Python 3"
    },
    "language_info": {
      "name": "python"
    }
  },
  "cells": [
    {
      "cell_type": "code",
      "metadata": {
        "colab": {
          "base_uri": "https://localhost:8080/"
        },
        "id": "OeEWS0XtpljI",
        "outputId": "f102cf12-b2c5-4e03-d895-018494ca8bbc"
      },
      "source": [
        "from keras.datasets import mnist \n",
        "data = mnist.load_data() \n",
        "((X_train, y_train), (X_test, y_test)) = data \n",
        "X_train = X_train.reshape ((X_train.shape [0], 28*28)).astype('float32') \n",
        "X_test = X_test.reshape((X_test.shape [0], 28*28)).astype('float32')\n",
        "\n",
        "\n",
        "X_train = X_train / 255 \n",
        "X_test = X_test / 255 \n",
        "from keras.utils import np_utils \n",
        "print(y_test.shape) \n",
        "y_train = np_utils.to_categorical(y_train) \n",
        "y_test = np_utils.to_categorical(y_test)\n",
        "\n",
        "num_classes = y_test.shape[1] \n",
        "print(y_test.shape)\n",
        "from keras.models import Sequential \n",
        "from keras. layers import Dense \n",
        "model = Sequential () \n",
        "model.add(Dense(32, input_dim = 28*28, activation='relu')) \n",
        "model.add (Dense(64, activation='relu')) \n",
        "model.add (Dense(10, activation='softmax'))\n",
        "\n",
        "model.compile(loss='categorical_crossentropy', optimizer='adam', metrics=['accuracy']) \n",
        "model.summary()\n",
        "model.fit(X_train, y_train, epochs=10, batch_size=100)\n",
        "scores = model.evaluate(X_test, y_test) \n",
        "print(scores)"
      ],
      "execution_count": 1,
      "outputs": [
        {
          "output_type": "stream",
          "text": [
            "Downloading data from https://storage.googleapis.com/tensorflow/tf-keras-datasets/mnist.npz\n",
            "11493376/11490434 [==============================] - 0s 0us/step\n",
            "(10000,)\n",
            "(10000, 10)\n",
            "Model: \"sequential\"\n",
            "_________________________________________________________________\n",
            "Layer (type)                 Output Shape              Param #   \n",
            "=================================================================\n",
            "dense (Dense)                (None, 32)                25120     \n",
            "_________________________________________________________________\n",
            "dense_1 (Dense)              (None, 64)                2112      \n",
            "_________________________________________________________________\n",
            "dense_2 (Dense)              (None, 10)                650       \n",
            "=================================================================\n",
            "Total params: 27,882\n",
            "Trainable params: 27,882\n",
            "Non-trainable params: 0\n",
            "_________________________________________________________________\n",
            "Epoch 1/10\n",
            "600/600 [==============================] - 2s 2ms/step - loss: 0.7573 - accuracy: 0.7786\n",
            "Epoch 2/10\n",
            "600/600 [==============================] - 1s 2ms/step - loss: 0.2015 - accuracy: 0.9413\n",
            "Epoch 3/10\n",
            "600/600 [==============================] - 1s 2ms/step - loss: 0.1583 - accuracy: 0.9543\n",
            "Epoch 4/10\n",
            "600/600 [==============================] - 1s 2ms/step - loss: 0.1283 - accuracy: 0.9616\n",
            "Epoch 5/10\n",
            "600/600 [==============================] - 1s 2ms/step - loss: 0.1086 - accuracy: 0.9671\n",
            "Epoch 6/10\n",
            "600/600 [==============================] - 1s 2ms/step - loss: 0.0987 - accuracy: 0.9693\n",
            "Epoch 7/10\n",
            "600/600 [==============================] - 1s 2ms/step - loss: 0.0888 - accuracy: 0.9723\n",
            "Epoch 8/10\n",
            "600/600 [==============================] - 1s 2ms/step - loss: 0.0758 - accuracy: 0.9752\n",
            "Epoch 9/10\n",
            "600/600 [==============================] - 1s 2ms/step - loss: 0.0705 - accuracy: 0.9782\n",
            "Epoch 10/10\n",
            "600/600 [==============================] - 1s 2ms/step - loss: 0.0627 - accuracy: 0.9800\n",
            "313/313 [==============================] - 0s 1ms/step - loss: 0.1041 - accuracy: 0.9687\n",
            "[0.10409105569124222, 0.9686999917030334]\n"
          ],
          "name": "stdout"
        }
      ]
    },
    {
      "cell_type": "markdown",
      "metadata": {
        "id": "dZKIZutXqqLQ"
      },
      "source": [
        ""
      ]
    },
    {
      "cell_type": "code",
      "metadata": {
        "id": "8EG32EyZqr1Y"
      },
      "source": [
        ""
      ],
      "execution_count": null,
      "outputs": []
    }
  ]
}